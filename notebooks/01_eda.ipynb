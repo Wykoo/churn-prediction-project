{
 "cells": [
  {
   "cell_type": "markdown",
   "id": "e782931e",
   "metadata": {},
   "source": [
    "# Exploratory Data Analysis (EDA)\n",
    "This notebook contains an initial exploratory analysis of the dataset 'Klienci_DB.csv' to understand its structure, distributions, and potential insights."
   ]
  },
  {
   "cell_type": "code",
   "execution_count": null,
   "id": "b9cd3ed5",
   "metadata": {},
   "outputs": [],
   "source": [
    "import pandas as pd\n",
    "import numpy as np\n",
    "import matplotlib.pyplot as plt\n",
    "import seaborn as sns\n",
    "\n",
    "# Configure plot style\n",
    "plt.style.use(\"ggplot\")\n",
    "sns.set_theme(style=\"whitegrid\")"
   ]
  },
  {
   "cell_type": "code",
   "execution_count": null,
   "id": "816b75a1",
   "metadata": {},
   "outputs": [],
   "source": [
    "# Load the dataset\n",
    "df = pd.read_csv(\"/Users/wyko/churn-prediction-project/data/raw/Klienci_DB.csv\")"
   ]
  },
  {
   "cell_type": "markdown",
   "id": "d6a346a6",
   "metadata": {},
   "source": [
    "## 1. Dataset Overview\n",
    "basic information about the structure of the dataset."
   ]
  },
  {
   "cell_type": "code",
   "execution_count": null,
   "id": "815fde90",
   "metadata": {},
   "outputs": [],
   "source": [
    "# Show shape, column names, and types\n",
    "print(\"Shape: \", df.shape)\n",
    "print(\"Columns: \", df.columns.tolist())\n",
    "print(\"\\nData types\\n\", df.dtypes)\n",
    "\n",
    "# More detailed info\n",
    "df.info()\n",
    "\n",
    "# Preview first 5 rows\n",
    "df.head()"
   ]
  },
  {
   "cell_type": "markdown",
   "id": "dd77dbda",
   "metadata": {},
   "source": [
    "## 2. Missing Values\n",
    "Check for any missing or null values in the dataset."
   ]
  },
  {
   "cell_type": "code",
   "execution_count": null,
   "id": "4a714f61",
   "metadata": {},
   "outputs": [],
   "source": [
    "# Count of missing values per column\n",
    "df.isnull().sum()"
   ]
  },
  {
   "cell_type": "markdown",
   "id": "f2232707",
   "metadata": {},
   "source": [
    "## 3.Descriptive Statistics\n",
    "Summary of numerical features in the dataset."
   ]
  },
  {
   "cell_type": "code",
   "execution_count": null,
   "id": "3274695a",
   "metadata": {},
   "outputs": [],
   "source": [
    "# Summary statistics \n",
    "df.describe()"
   ]
  },
  {
   "cell_type": "markdown",
   "id": "23b8a6d2",
   "metadata": {},
   "source": [
    "## 4. Variable Distributions\n",
    "Let's explore the distribution of key numerical features."
   ]
  },
  {
   "cell_type": "code",
   "execution_count": null,
   "id": "9e47b0b5",
   "metadata": {},
   "outputs": [],
   "source": [
    "# Age distribution\n",
    "df[\"wiek\"].hist(bins=10, color=\"skyblue\", edgecolor=\"black\")\n",
    "plt.title(\"Age Distribution\")\n",
    "plt.xlabel(\"Age\")\n",
    "plt.ylabel(\"Number of Clinets\")\n",
    "plt.grid(True)\n",
    "plt.tight_layout()\n",
    "plt.show()"
   ]
  },
  {
   "cell_type": "markdown",
   "id": "a1afe91a",
   "metadata": {},
   "source": [
    "#### Age Distribution \n",
    "\n",
    "The age distribution of clients appears to be relatively uniform, with a slightly higher number of clinets at the youngest (18-25) and oldest (75-80) age ranges.\n",
    "\n",
    "- No major skewness or anomalies are present.\n",
    "- The dataset includes a well-balanced range of ages between 18 and 80.\n",
    "- This indicates good representation across different age groups for further analysis.\n",
    "\n",
    "Overall, the age data apperas to be clean and evenly distributed."
   ]
  },
  {
   "cell_type": "code",
   "execution_count": null,
   "id": "cc14b6dc",
   "metadata": {},
   "outputs": [],
   "source": [
    "#Monthly income boxplot\n",
    "sns.boxplot(x=df[\"dochód_miesięczny\"])\n",
    "plt.title(\"Monthly Income - Boxplot\")\n",
    "plt.xlabel(\"Monthly Income\")\n",
    "plt.show()"
   ]
  },
  {
   "cell_type": "markdown",
   "id": "61579131",
   "metadata": {},
   "source": [
    "#### Boxplot Analysis: Monthly Income\n",
    "The boxplot above shows the distribution of customers' monthly income.\n",
    "\n",
    "- The median monthly income is around 7500.\n",
    "- There is a high concetration of customers earing between ~5500 and ~9500.\n",
    "- A significant number of outliers exist on both the lowe and higher ends of the income spectrum.\n",
    "- These outliners might be worth investigating further to check for data entry errors or special customers grops.\n",
    "\n",
    "Overall, the data is slightl skewed and not perfectly symmetric."
   ]
  },
  {
   "cell_type": "markdown",
   "id": "acd67d9b",
   "metadata": {},
   "source": [
    "### 5. Analysis of Categorical Variables\n",
    "\n",
    "Let's examine the distribution of categorical variables to understand the composition of the dataset. \n",
    "This includes gender, city, company account status and churn status.\n",
    "\n",
    "We will look at their value counts and visualize them using count plots."
   ]
  },
  {
   "cell_type": "code",
   "execution_count": null,
   "id": "920ee713",
   "metadata": {},
   "outputs": [],
   "source": [
    "categorical_cols = ['plec', 'miasto','czy_konto_firmowe', 'czy_churn']\n",
    "for col in categorical_cols:\n",
    "    print(df[col].value_counts())\n",
    "    print(\"\\n\")\n",
    "\n",
    "    sns.countplot(data=df, x=col, hue=col,palette='pastel', legend=False)\n",
    "    plt.title(f'Distribution of {col}')\n",
    "    plt.xticks(rotation=45)\n",
    "    plt.show()"
   ]
  },
  {
   "cell_type": "markdown",
   "id": "59cfc7d1",
   "metadata": {},
   "source": [
    "### Categorical Variable Analysis - Summary\n",
    "\n",
    "The following barplots represent the distribution of categorical variables: plec, miasto, czy_konto_firmowe, czy_churn.\n",
    "\n",
    "#### 1. Gender (plec)\n",
    "- The gender distribution is nearly balanced.\n",
    "- Slighlty more female (K) customers than male (M), but the difference is negligible and not concerning from a data bias perspective.\n",
    "\n",
    "#### 2. City (miasto)\n",
    "- The distribution of customers across different cities is almost uniform.\n",
    "- This suggest that the dataset was likely constructed to avoid location bias or represents a broad and balanced customer base.\n",
    "\n",
    "#### 3. Company Account (czy_konto_firmowe)\n",
    "- The majority of customers do not use a business account.\n",
    "- Only about 20% of clients use company accounts.\n",
    "- This might be useful in churn anaysis - company accounts may churn differently.\n",
    "\n",
    "#### 4. Churn Status(czy_churn)\n",
    "- The class is imbalanced - over 60% of customers are marked as chruned(1), while ~35% stayed(0).\n",
    "- This imbalnce may need toi be hanled later during model training (e.g., using SMOTE, class weights, etc.).\n",
    "\n",
    "#### Overall Summary\n",
    "- The categorical variables appear to be balanced and representative, especially in terms of gender and location.\n",
    "- the class imbalnce in the churn variable is the most important insight - it will directly impact model evaluation and requiers attetion.\n",
    "- The low number of business accounts migth indicate that the service is mostly targeted toward individual clients, which could influence feature importance in churn prediction."
   ]
  },
  {
   "cell_type": "markdown",
   "id": "ab5abadb",
   "metadata": {},
   "source": [
    "### 6. Correlation Between Numerical Variables\n",
    "\n",
    "To detect potential relationships between numerical features (e.g., age, monthly income, days from last purchase, average purchase, count of complaints)\\\n",
    "\n",
    "This helps to identify multicollinearity and patterns worth deeper investigation."
   ]
  },
  {
   "cell_type": "code",
   "execution_count": null,
   "id": "1653bf03",
   "metadata": {},
   "outputs": [],
   "source": [
    "plt.figure(figsize=(10, 8))\n",
    "sns.heatmap(df.corr(numeric_only=True), annot=True, cmap='coolwarm', fmt=\".2f\")\n",
    "plt.title('Correlation Heatmap')\n",
    "plt.show()"
   ]
  },
  {
   "cell_type": "markdown",
   "id": "4ef47c42",
   "metadata": {},
   "source": [
    "### Correlation Analysis\n",
    "\n",
    "The correlation heatmap shows the linear relationships between numerical features.\n",
    "\n",
    "- 'dni_od_ostatniego_zakupu' has the strongest postivie correlation with churn ('0.65'), suggesting that customers who haven't purchased for a long time are more likely to churn.\n",
    "- 'średnia_wartość_zakupu' shows a moderate negative correlation with churn ('-0.34'), indicating that customers with higher purchase values tend to stay.\n",
    "- Other variables, such as 'wiek', 'dochód_miesięczny' or 'liczba_reklamacji', do not exhibit a strong correlation with churn."
   ]
  },
  {
   "cell_type": "markdown",
   "id": "cf7ae284",
   "metadata": {},
   "source": [
    "### 7. Outlier Detecion\n",
    "\n",
    "Outliers can significantly affect model performance. We will use boxplots to visually inspect potential outliers for key numerical features."
   ]
  },
  {
   "cell_type": "code",
   "execution_count": null,
   "id": "18b49ad1",
   "metadata": {},
   "outputs": [],
   "source": [
    "num_cols = ['dochód_miesięczny', 'wiek', 'średnia_wartość_zakupu']\n",
    "\n",
    "for col in num_cols:\n",
    "    sns.boxplot(x=df[col])\n",
    "    plt.title(f'{col} - Boxplot')\n",
    "    plt.show()"
   ]
  },
  {
   "cell_type": "code",
   "execution_count": null,
   "id": "d758fe31",
   "metadata": {},
   "outputs": [],
   "source": [
    "columns_to_clean = [\"dochód_miesięczny\", \"średnia_wartość_zakupu\"]\n",
    "\n",
    "for col in columns_to_clean:\n",
    "    Q1 = df[col].quantile(0.25)\n",
    "    Q3 = df[col].quantile(0.75)\n",
    "    IQR = Q3 - Q1\n",
    "    df = df[(df[col] >= Q1 - 1.5 * IQR) & (df[col] <= Q3 + 1.5 * IQR)]"
   ]
  },
  {
   "cell_type": "code",
   "execution_count": null,
   "id": "24fabbcb",
   "metadata": {},
   "outputs": [],
   "source": [
    "num_cols = ['dochód_miesięczny', 'wiek', 'średnia_wartość_zakupu']\n",
    "\n",
    "for col in num_cols:\n",
    "    sns.boxplot(x=df[col])\n",
    "    plt.title(f'{col} - Boxplot')\n",
    "    plt.show()"
   ]
  },
  {
   "cell_type": "markdown",
   "id": "17ad694a",
   "metadata": {},
   "source": [
    "#### Outlier Detection - Summary\n",
    "\n",
    "Outliers can significantly affect the performance of machine learing models by skewing the distribution of numerical features and introducing noise.\n",
    "\n",
    "To detect them, we visualized key numeric features using boxplots.\n",
    "- Monthly Income (dochód_miesięczny)\n",
    "- Average Purchase Value (średnia_wartość_zakupu)\n",
    "\n",
    "We observed visible outliers in both features, especially on the high and low ends.\n",
    "To clean the data, IQR method was applied, removing values outside the [Q1 - 1.5xIQR, Q3 + 1.5xIQR] range.\n",
    "This approach helped reduce the influence of extreme values while keeping the majority of valid data.\n",
    "\n",
    "After cleaning, updated boxplots confirmed the improved distributions, with most extreme values successfully removed."
   ]
  },
  {
   "cell_type": "markdown",
   "id": "d1061b9d",
   "metadata": {},
   "source": [
    "### 8. Relationships with Target Variable (Churn)\n",
    "\n",
    "Finally, we analyze how key features relate to the target variable 'czy_churn'.\n",
    "\n",
    "This will help identify patterns and variable that may influence customer retention."
   ]
  },
  {
   "cell_type": "code",
   "execution_count": 20,
   "id": "d294f6c2",
   "metadata": {},
   "outputs": [
    {
     "data": {
      "image/png": "[encoded data removed]",
      "text/plain": [
       "<Figure size 640x480 with 1 Axes>"
      ]
     },
     "metadata": {},
     "output_type": "display_data"
    },
    {
     "data": {
      "image/png": "[encoded data removed]",
      "text/plain": [
       "<Figure size 640x480 with 1 Axes>"
      ]
     },
     "metadata": {},
     "output_type": "display_data"
    }
   ],
   "source": [
    "# Visualize churn vs. days since last \n",
    "sns.boxplot(data=df, x='czy_churn', y='dni_od_ostatniego_zakupu')\n",
    "plt.title(\"Days Since Last Purchase vs Churn\")\n",
    "plt.xlabel(\"Churn (0 = No, 1 = Yes)\")\n",
    "plt.ylabel(\"Days Since Last Purchase\")\n",
    "plt.show()\n",
    "\n",
    "# Visualize churn vs. average purchase value\n",
    "sns.boxplot(data=df, x='czy_churn', y = 'średnia_wartość_zakupu')\n",
    "plt.title(\"Average Purchase Value vs Churn\")\n",
    "plt.xlabel(\"Churn (0 = No, 1= Yes)\")\n",
    "plt.ylabel(\"Average Purchase Value\")\n",
    "plt.show()"
   ]
  },
  {
   "cell_type": "markdown",
   "id": "56c2784a",
   "metadata": {},
   "source": [
    "#### Relationship Between Features and Churn\n",
    "\n",
    " - **Days Since Last Purchase**: Churned customers have significantly higher values, indicating longer inactivity before leaving.\n",
    " - **Average Purchase Value**: Churned users tend to spend less on avergae compared to retained customers.\n",
    "\n",
    " Overall both variables show meaningful and may serve as strong predictiors of churn."
   ]
  },
  {
   "cell_type": "markdown",
   "id": "9fea3f1d",
   "metadata": {},
   "source": []
  }
 ],
 "metadata": {
  "kernelspec": {
   "display_name": ".venv",
   "language": "python",
   "name": "python3"
  },
  "language_info": {
   "codemirror_mode": {
    "name": "ipython",
    "version": 3
   },
   "file_extension": ".py",
   "mimetype": "text/x-python",
   "name": "python",
   "nbconvert_exporter": "python",
   "pygments_lexer": "ipython3",
   "version": "3.13.2"
  }
 },
 "nbformat": 4,
 "nbformat_minor": 5
}
